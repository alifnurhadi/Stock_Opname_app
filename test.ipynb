{
 "cells": [
  {
   "cell_type": "code",
   "execution_count": 6,
   "metadata": {},
   "outputs": [
    {
     "ename": "TclError",
     "evalue": "image \"pyimage4\" doesn't exist",
     "output_type": "error",
     "traceback": [
      "\u001b[1;31m---------------------------------------------------------------------------\u001b[0m",
      "\u001b[1;31mTclError\u001b[0m                                  Traceback (most recent call last)",
      "Cell \u001b[1;32mIn[6], line 76\u001b[0m\n\u001b[0;32m     74\u001b[0m \u001b[38;5;66;03m# Example usage\u001b[39;00m\n\u001b[0;32m     75\u001b[0m \u001b[38;5;28;01mif\u001b[39;00m \u001b[38;5;18m__name__\u001b[39m \u001b[38;5;241m==\u001b[39m \u001b[38;5;124m\"\u001b[39m\u001b[38;5;124m__main__\u001b[39m\u001b[38;5;124m\"\u001b[39m:\n\u001b[1;32m---> 76\u001b[0m     window, buttons, entries, image_refs \u001b[38;5;241m=\u001b[39m \u001b[43mcreate_gui\u001b[49m\u001b[43m(\u001b[49m\u001b[43m)\u001b[49m\n\u001b[0;32m     77\u001b[0m     window\u001b[38;5;241m.\u001b[39mmainloop()\n",
      "Cell \u001b[1;32mIn[6], line 41\u001b[0m, in \u001b[0;36mcreate_gui\u001b[1;34m()\u001b[0m\n\u001b[0;32m     39\u001b[0m entry_1 \u001b[38;5;241m=\u001b[39m tk\u001b[38;5;241m.\u001b[39mEntry(window, bd\u001b[38;5;241m=\u001b[39m\u001b[38;5;241m0\u001b[39m, bg\u001b[38;5;241m=\u001b[39m\u001b[38;5;124m\"\u001b[39m\u001b[38;5;124m#D9D9D9\u001b[39m\u001b[38;5;124m\"\u001b[39m, fg\u001b[38;5;241m=\u001b[39m\u001b[38;5;124m\"\u001b[39m\u001b[38;5;124m#000716\u001b[39m\u001b[38;5;124m\"\u001b[39m, highlightthickness\u001b[38;5;241m=\u001b[39m\u001b[38;5;241m0\u001b[39m)\n\u001b[0;32m     40\u001b[0m entry_1\u001b[38;5;241m.\u001b[39mplace(x\u001b[38;5;241m=\u001b[39m\u001b[38;5;241m50\u001b[39m, y\u001b[38;5;241m=\u001b[39m\u001b[38;5;241m40\u001b[39m, width\u001b[38;5;241m=\u001b[39m\u001b[38;5;241m100\u001b[39m, height\u001b[38;5;241m=\u001b[39m\u001b[38;5;241m20\u001b[39m)\n\u001b[1;32m---> 41\u001b[0m \u001b[43mcanvas\u001b[49m\u001b[38;5;241;43m.\u001b[39;49m\u001b[43mcreate_image\u001b[49m\u001b[43m(\u001b[49m\u001b[38;5;241;43m100\u001b[39;49m\u001b[43m,\u001b[49m\u001b[43m \u001b[49m\u001b[38;5;241;43m50\u001b[39;49m\u001b[43m,\u001b[49m\u001b[43m \u001b[49m\u001b[43mimage\u001b[49m\u001b[38;5;241;43m=\u001b[39;49m\u001b[43mentry_image_1\u001b[49m\u001b[43m)\u001b[49m\n\u001b[0;32m     43\u001b[0m \u001b[38;5;66;03m# Session Combobox (simplified as Entry for now)\u001b[39;00m\n\u001b[0;32m     44\u001b[0m session_combobox \u001b[38;5;241m=\u001b[39m tk\u001b[38;5;241m.\u001b[39mEntry(window, bd\u001b[38;5;241m=\u001b[39m\u001b[38;5;241m0\u001b[39m, bg\u001b[38;5;241m=\u001b[39m\u001b[38;5;124m\"\u001b[39m\u001b[38;5;124m#D9D9D9\u001b[39m\u001b[38;5;124m\"\u001b[39m, fg\u001b[38;5;241m=\u001b[39m\u001b[38;5;124m\"\u001b[39m\u001b[38;5;124m#000716\u001b[39m\u001b[38;5;124m\"\u001b[39m, highlightthickness\u001b[38;5;241m=\u001b[39m\u001b[38;5;241m0\u001b[39m)\n",
      "File \u001b[1;32mc:\\Users\\MARKETING SUPPORT\\miniconda3\\Lib\\tkinter\\__init__.py:2864\u001b[0m, in \u001b[0;36mCanvas.create_image\u001b[1;34m(self, *args, **kw)\u001b[0m\n\u001b[0;32m   2862\u001b[0m \u001b[38;5;28;01mdef\u001b[39;00m \u001b[38;5;21mcreate_image\u001b[39m(\u001b[38;5;28mself\u001b[39m, \u001b[38;5;241m*\u001b[39margs, \u001b[38;5;241m*\u001b[39m\u001b[38;5;241m*\u001b[39mkw):\n\u001b[0;32m   2863\u001b[0m \u001b[38;5;250m    \u001b[39m\u001b[38;5;124;03m\"\"\"Create image item with coordinates x1,y1.\"\"\"\u001b[39;00m\n\u001b[1;32m-> 2864\u001b[0m     \u001b[38;5;28;01mreturn\u001b[39;00m \u001b[38;5;28;43mself\u001b[39;49m\u001b[38;5;241;43m.\u001b[39;49m\u001b[43m_create\u001b[49m\u001b[43m(\u001b[49m\u001b[38;5;124;43m'\u001b[39;49m\u001b[38;5;124;43mimage\u001b[39;49m\u001b[38;5;124;43m'\u001b[39;49m\u001b[43m,\u001b[49m\u001b[43m \u001b[49m\u001b[43margs\u001b[49m\u001b[43m,\u001b[49m\u001b[43m \u001b[49m\u001b[43mkw\u001b[49m\u001b[43m)\u001b[49m\n",
      "File \u001b[1;32mc:\\Users\\MARKETING SUPPORT\\miniconda3\\Lib\\tkinter\\__init__.py:2850\u001b[0m, in \u001b[0;36mCanvas._create\u001b[1;34m(self, itemType, args, kw)\u001b[0m\n\u001b[0;32m   2848\u001b[0m \u001b[38;5;28;01melse\u001b[39;00m:\n\u001b[0;32m   2849\u001b[0m     cnf \u001b[38;5;241m=\u001b[39m {}\n\u001b[1;32m-> 2850\u001b[0m \u001b[38;5;28;01mreturn\u001b[39;00m \u001b[38;5;28mself\u001b[39m\u001b[38;5;241m.\u001b[39mtk\u001b[38;5;241m.\u001b[39mgetint(\u001b[38;5;28;43mself\u001b[39;49m\u001b[38;5;241;43m.\u001b[39;49m\u001b[43mtk\u001b[49m\u001b[38;5;241;43m.\u001b[39;49m\u001b[43mcall\u001b[49m\u001b[43m(\u001b[49m\n\u001b[0;32m   2851\u001b[0m \u001b[43m    \u001b[49m\u001b[38;5;28;43mself\u001b[39;49m\u001b[38;5;241;43m.\u001b[39;49m\u001b[43m_w\u001b[49m\u001b[43m,\u001b[49m\u001b[43m \u001b[49m\u001b[38;5;124;43m'\u001b[39;49m\u001b[38;5;124;43mcreate\u001b[39;49m\u001b[38;5;124;43m'\u001b[39;49m\u001b[43m,\u001b[49m\u001b[43m \u001b[49m\u001b[43mitemType\u001b[49m\u001b[43m,\u001b[49m\n\u001b[0;32m   2852\u001b[0m \u001b[43m    \u001b[49m\u001b[38;5;241;43m*\u001b[39;49m\u001b[43m(\u001b[49m\u001b[43margs\u001b[49m\u001b[43m \u001b[49m\u001b[38;5;241;43m+\u001b[39;49m\u001b[43m \u001b[49m\u001b[38;5;28;43mself\u001b[39;49m\u001b[38;5;241;43m.\u001b[39;49m\u001b[43m_options\u001b[49m\u001b[43m(\u001b[49m\u001b[43mcnf\u001b[49m\u001b[43m,\u001b[49m\u001b[43m \u001b[49m\u001b[43mkw\u001b[49m\u001b[43m)\u001b[49m\u001b[43m)\u001b[49m\u001b[43m)\u001b[49m)\n",
      "\u001b[1;31mTclError\u001b[0m: image \"pyimage4\" doesn't exist"
     ]
    }
   ],
   "source": [
    "import tkinter as tk\n",
    "from tkinter import messagebox\n",
    "from tkinter import PhotoImage\n",
    "import os\n",
    "from typing import Dict, Any, List, Tuple\n",
    "\n",
    "def create_gui() -> Tuple[tk.Tk, Dict[str, Any], Dict[str, Any], List[PhotoImage]]:\n",
    "    # Root window\n",
    "    window = tk.Tk()\n",
    "    window.geometry(\"500x400\")\n",
    "\n",
    "    # Canvas for entry backgrounds (if needed)\n",
    "    canvas = tk.Canvas(window, width=500, height=400)\n",
    "    canvas.pack()\n",
    "\n",
    "    # List to store PhotoImage references\n",
    "    image_refs: List[PhotoImage] = []\n",
    "\n",
    "    def relative_to_assets(path22):\n",
    "        path = r'C:\\Users\\MARKETING SUPPORT\\Documents\\asteros\\astrs_work\\database\\General\\Apps\\App3\\Stock_Opname_app\\assets'\n",
    "        full_path = os.path.join(path, path22)\n",
    "        if not os.path.exists(full_path):\n",
    "            print(f\"Warning: File not found at {full_path}\")\n",
    "        return full_path\n",
    "\n",
    "\n",
    "    # Read locations for button_12\n",
    "    try:\n",
    "        with open('./locations.txt', 'r') as reader:\n",
    "            location = reader.read()\n",
    "    except FileNotFoundError:\n",
    "        location = \"No locations found\"\n",
    "    split_loc = location.split(',')\n",
    "    locations_display = '\\n'.join(filter(None, split_loc))\n",
    "\n",
    "    # Create Entry Widgets (RECAP_ENTRY)\n",
    "    entry_image_1 = PhotoImage(file=relative_to_assets(\"entry_1.png\"))\n",
    "    image_refs.append(entry_image_1)  # Store reference\n",
    "    entry_1 = tk.Entry(window, bd=0, bg=\"#D9D9D9\", fg=\"#000716\", highlightthickness=0)\n",
    "    entry_1.place(x=50, y=40, width=100, height=20)\n",
    "    canvas.create_image(100, 50, image=entry_image_1)\n",
    "\n",
    "    # Session Combobox (simplified as Entry for now)\n",
    "    session_combobox = tk.Entry(window, bd=0, bg=\"#D9D9D9\", fg=\"#000716\", highlightthickness=0)\n",
    "    session_combobox.place(x=50, y=370, width=100, height=20)\n",
    "\n",
    "    # Create Button Widgets (RECAP_BUTTON)\n",
    "    button_image_1 = PhotoImage(file=relative_to_assets(\"button_1.png\"))\n",
    "    image_refs.append(button_image_1)\n",
    "    button_1 = tk.Button(\n",
    "        image=button_image_1,\n",
    "        borderwidth=0,\n",
    "        highlightthickness=0,\n",
    "        command=lambda: print(\"Browse\"),\n",
    "        relief=\"flat\",\n",
    "        bg=\"#4CAF50\"\n",
    "    )\n",
    "    button_1.place(x=398.0, y=55.0, width=89.0, height=51.0)\n",
    "\n",
    "    \n",
    "\n",
    "    # Define RECAP dictionaries\n",
    "    RECAP_ENTRY: Dict[str, Any] = {\n",
    "        \"sku\": entry_1,\n",
    "        \"sessions\": session_combobox\n",
    "    }\n",
    "\n",
    "    RECAP_BUTTON: Dict[str, Any] = {\n",
    "        \"browse\": button_1\n",
    "    }\n",
    "\n",
    "    return window, RECAP_BUTTON, RECAP_ENTRY, image_refs\n",
    "\n",
    "# Example usage\n",
    "if __name__ == \"__main__\":\n",
    "    window, buttons, entries, image_refs = create_gui()\n",
    "    window.mainloop()"
   ]
  },
  {
   "cell_type": "code",
   "execution_count": 7,
   "metadata": {},
   "outputs": [],
   "source": [
    "import os\n",
    "from tkinter import Tk , Label, PhotoImage "
   ]
  },
  {
   "cell_type": "code",
   "execution_count": 10,
   "metadata": {},
   "outputs": [
    {
     "data": {
      "text/plain": [
       "True"
      ]
     },
     "execution_count": 10,
     "metadata": {},
     "output_type": "execute_result"
    }
   ],
   "source": [
    "os.path.exists(r'C:\\Users\\alifn\\OneDrive\\Desktop\\urgent\\workspace_2025_\\WIP Project\\kantor\\stok_opname_app\\Stock_Opname_app\\assets\\entry_kolian.png')\n",
    "\n",
    "\n",
    "def relative_to_assets(filename):\n",
    "    path = r'C:\\Users\\alifn\\OneDrive\\Desktop\\urgent\\workspace_2025_\\WIP Project\\kantor\\stok_opname_app\\Stock_Opname_app\\assets'\n",
    "    full_path = os.path.join(path, filename)\n",
    "    if not os.path.exists(full_path):\n",
    "        print(f\"Warning: File not found at {full_path}\")\n",
    "    return full_path\n",
    "\n",
    "os.path.exists(relative_to_assets('entry_kolian.png'))"
   ]
  },
  {
   "cell_type": "code",
   "execution_count": 6,
   "metadata": {},
   "outputs": [
    {
     "ename": "TclError",
     "evalue": "image \"pyimage3\" doesn't exist",
     "output_type": "error",
     "traceback": [
      "\u001b[31m---------------------------------------------------------------------------\u001b[39m",
      "\u001b[31mTclError\u001b[39m                                  Traceback (most recent call last)",
      "\u001b[36mCell\u001b[39m\u001b[36m \u001b[39m\u001b[32mIn[6]\u001b[39m\u001b[32m, line 20\u001b[39m\n\u001b[32m     17\u001b[39m images: \u001b[38;5;28mdict\u001b[39m = {}\n\u001b[32m     19\u001b[39m test_image = PhotoImage(file=relative_to_assets(\u001b[33m'\u001b[39m\u001b[33mentry_kolian.png\u001b[39m\u001b[33m'\u001b[39m))\n\u001b[32m---> \u001b[39m\u001b[32m20\u001b[39m test_label = \u001b[43mLabel\u001b[49m\u001b[43m(\u001b[49m\u001b[43mroot\u001b[49m\u001b[43m,\u001b[49m\u001b[43m \u001b[49m\u001b[43mimage\u001b[49m\u001b[43m=\u001b[49m\u001b[43mtest_image\u001b[49m\u001b[43m)\u001b[49m\n\u001b[32m     21\u001b[39m test_label.place(x=\u001b[32m0\u001b[39m, y\n\u001b[32m     22\u001b[39m =\u001b[32m0\u001b[39m)\n\u001b[32m     24\u001b[39m root.mainloop()\n",
      "\u001b[36mFile \u001b[39m\u001b[32md:\\hacktiv8_alif\\hack8_bc\\conda_env\\work\\Lib\\tkinter\\__init__.py:3250\u001b[39m, in \u001b[36mLabel.__init__\u001b[39m\u001b[34m(self, master, cnf, **kw)\u001b[39m\n\u001b[32m   3232\u001b[39m \u001b[38;5;28;01mdef\u001b[39;00m\u001b[38;5;250m \u001b[39m\u001b[34m__init__\u001b[39m(\u001b[38;5;28mself\u001b[39m, master=\u001b[38;5;28;01mNone\u001b[39;00m, cnf={}, **kw):\n\u001b[32m   3233\u001b[39m \u001b[38;5;250m    \u001b[39m\u001b[33;03m\"\"\"Construct a label widget with the parent MASTER.\u001b[39;00m\n\u001b[32m   3234\u001b[39m \n\u001b[32m   3235\u001b[39m \u001b[33;03m    STANDARD OPTIONS\u001b[39;00m\n\u001b[32m   (...)\u001b[39m\u001b[32m   3248\u001b[39m \n\u001b[32m   3249\u001b[39m \u001b[33;03m    \"\"\"\u001b[39;00m\n\u001b[32m-> \u001b[39m\u001b[32m3250\u001b[39m     \u001b[43mWidget\u001b[49m\u001b[43m.\u001b[49m\u001b[34;43m__init__\u001b[39;49m\u001b[43m(\u001b[49m\u001b[38;5;28;43mself\u001b[39;49m\u001b[43m,\u001b[49m\u001b[43m \u001b[49m\u001b[43mmaster\u001b[49m\u001b[43m,\u001b[49m\u001b[43m \u001b[49m\u001b[33;43m'\u001b[39;49m\u001b[33;43mlabel\u001b[39;49m\u001b[33;43m'\u001b[39;49m\u001b[43m,\u001b[49m\u001b[43m \u001b[49m\u001b[43mcnf\u001b[49m\u001b[43m,\u001b[49m\u001b[43m \u001b[49m\u001b[43mkw\u001b[49m\u001b[43m)\u001b[49m\n",
      "\u001b[36mFile \u001b[39m\u001b[32md:\\hacktiv8_alif\\hack8_bc\\conda_env\\work\\Lib\\tkinter\\__init__.py:2661\u001b[39m, in \u001b[36mBaseWidget.__init__\u001b[39m\u001b[34m(self, master, widgetName, cnf, kw, extra)\u001b[39m\n\u001b[32m   2659\u001b[39m \u001b[38;5;28;01mfor\u001b[39;00m k, v \u001b[38;5;129;01min\u001b[39;00m classes:\n\u001b[32m   2660\u001b[39m     \u001b[38;5;28;01mdel\u001b[39;00m cnf[k]\n\u001b[32m-> \u001b[39m\u001b[32m2661\u001b[39m \u001b[38;5;28;43mself\u001b[39;49m\u001b[43m.\u001b[49m\u001b[43mtk\u001b[49m\u001b[43m.\u001b[49m\u001b[43mcall\u001b[49m\u001b[43m(\u001b[49m\n\u001b[32m   2662\u001b[39m \u001b[43m    \u001b[49m\u001b[43m(\u001b[49m\u001b[43mwidgetName\u001b[49m\u001b[43m,\u001b[49m\u001b[43m \u001b[49m\u001b[38;5;28;43mself\u001b[39;49m\u001b[43m.\u001b[49m\u001b[43m_w\u001b[49m\u001b[43m)\u001b[49m\u001b[43m \u001b[49m\u001b[43m+\u001b[49m\u001b[43m \u001b[49m\u001b[43mextra\u001b[49m\u001b[43m \u001b[49m\u001b[43m+\u001b[49m\u001b[43m \u001b[49m\u001b[38;5;28;43mself\u001b[39;49m\u001b[43m.\u001b[49m\u001b[43m_options\u001b[49m\u001b[43m(\u001b[49m\u001b[43mcnf\u001b[49m\u001b[43m)\u001b[49m\u001b[43m)\u001b[49m\n\u001b[32m   2663\u001b[39m \u001b[38;5;28;01mfor\u001b[39;00m k, v \u001b[38;5;129;01min\u001b[39;00m classes:\n\u001b[32m   2664\u001b[39m     k.configure(\u001b[38;5;28mself\u001b[39m, v)\n",
      "\u001b[31mTclError\u001b[39m: image \"pyimage3\" doesn't exist"
     ]
    }
   ],
   "source": [
    "\n",
    "def relative_to_assets(filename):\n",
    "    path = r'C:\\Users\\alifn\\OneDrive\\Desktop\\urgent\\workspace_2025_\\WIP Project\\kantor\\stok_opname_app\\Stock_Opname_app\\assets'\n",
    "    full_path = os.path.join(path, filename)\n",
    "    if not os.path.exists(full_path):\n",
    "        print(f\"Warning: File not found at {full_path}\")\n",
    "    return full_path\n",
    "\n",
    "root = Tk()\n",
    "root.geometry(\"901x582\")\n",
    "root.configure(bg = \"#F6F6EF\")\n",
    "root.title(\"ASTEROS STOCK OPNAME\")\n",
    "root.resizable(False,False)\n",
    "\n",
    "images: dict = {}\n",
    "\n",
    "test_image = PhotoImage(file=relative_to_assets('entry_kolian.png'))\n",
    "test_label = Label(root, image=test_image)\n",
    "test_label.place(x=0, y\n",
    "=0)\n",
    "\n",
    "root.mainloop()\n",
    "\n",
    "images['test'] = test_image  # Keep a reference"
   ]
  }
 ],
 "metadata": {
  "kernelspec": {
   "display_name": "base",
   "language": "python",
   "name": "python3"
  },
  "language_info": {
   "codemirror_mode": {
    "name": "ipython",
    "version": 3
   },
   "file_extension": ".py",
   "mimetype": "text/x-python",
   "name": "python",
   "nbconvert_exporter": "python",
   "pygments_lexer": "ipython3",
   "version": "3.12.3"
  }
 },
 "nbformat": 4,
 "nbformat_minor": 2
}
