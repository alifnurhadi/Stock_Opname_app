{
 "cells": [
  {
   "cell_type": "code",
   "execution_count": 7,
   "metadata": {},
   "outputs": [],
   "source": [
    "import os\n",
    "from tkinter import Tk , Label, PhotoImage "
   ]
  },
  {
   "cell_type": "code",
   "execution_count": 10,
   "metadata": {},
   "outputs": [
    {
     "data": {
      "text/plain": [
       "True"
      ]
     },
     "execution_count": 10,
     "metadata": {},
     "output_type": "execute_result"
    }
   ],
   "source": [
    "os.path.exists(r'C:\\Users\\alifn\\OneDrive\\Desktop\\urgent\\workspace_2025_\\WIP Project\\kantor\\stok_opname_app\\Stock_Opname_app\\assets\\entry_kolian.png')\n",
    "\n",
    "\n",
    "def relative_to_assets(filename):\n",
    "    path = r'C:\\Users\\alifn\\OneDrive\\Desktop\\urgent\\workspace_2025_\\WIP Project\\kantor\\stok_opname_app\\Stock_Opname_app\\assets'\n",
    "    full_path = os.path.join(path, filename)\n",
    "    if not os.path.exists(full_path):\n",
    "        print(f\"Warning: File not found at {full_path}\")\n",
    "    return full_path\n",
    "\n",
    "os.path.exists(relative_to_assets('entry_kolian.png'))"
   ]
  },
  {
   "cell_type": "code",
   "execution_count": 6,
   "metadata": {},
   "outputs": [
    {
     "ename": "TclError",
     "evalue": "image \"pyimage3\" doesn't exist",
     "output_type": "error",
     "traceback": [
      "\u001b[31m---------------------------------------------------------------------------\u001b[39m",
      "\u001b[31mTclError\u001b[39m                                  Traceback (most recent call last)",
      "\u001b[36mCell\u001b[39m\u001b[36m \u001b[39m\u001b[32mIn[6]\u001b[39m\u001b[32m, line 20\u001b[39m\n\u001b[32m     17\u001b[39m images: \u001b[38;5;28mdict\u001b[39m = {}\n\u001b[32m     19\u001b[39m test_image = PhotoImage(file=relative_to_assets(\u001b[33m'\u001b[39m\u001b[33mentry_kolian.png\u001b[39m\u001b[33m'\u001b[39m))\n\u001b[32m---> \u001b[39m\u001b[32m20\u001b[39m test_label = \u001b[43mLabel\u001b[49m\u001b[43m(\u001b[49m\u001b[43mroot\u001b[49m\u001b[43m,\u001b[49m\u001b[43m \u001b[49m\u001b[43mimage\u001b[49m\u001b[43m=\u001b[49m\u001b[43mtest_image\u001b[49m\u001b[43m)\u001b[49m\n\u001b[32m     21\u001b[39m test_label.place(x=\u001b[32m0\u001b[39m, y\n\u001b[32m     22\u001b[39m =\u001b[32m0\u001b[39m)\n\u001b[32m     24\u001b[39m root.mainloop()\n",
      "\u001b[36mFile \u001b[39m\u001b[32md:\\hacktiv8_alif\\hack8_bc\\conda_env\\work\\Lib\\tkinter\\__init__.py:3250\u001b[39m, in \u001b[36mLabel.__init__\u001b[39m\u001b[34m(self, master, cnf, **kw)\u001b[39m\n\u001b[32m   3232\u001b[39m \u001b[38;5;28;01mdef\u001b[39;00m\u001b[38;5;250m \u001b[39m\u001b[34m__init__\u001b[39m(\u001b[38;5;28mself\u001b[39m, master=\u001b[38;5;28;01mNone\u001b[39;00m, cnf={}, **kw):\n\u001b[32m   3233\u001b[39m \u001b[38;5;250m    \u001b[39m\u001b[33;03m\"\"\"Construct a label widget with the parent MASTER.\u001b[39;00m\n\u001b[32m   3234\u001b[39m \n\u001b[32m   3235\u001b[39m \u001b[33;03m    STANDARD OPTIONS\u001b[39;00m\n\u001b[32m   (...)\u001b[39m\u001b[32m   3248\u001b[39m \n\u001b[32m   3249\u001b[39m \u001b[33;03m    \"\"\"\u001b[39;00m\n\u001b[32m-> \u001b[39m\u001b[32m3250\u001b[39m     \u001b[43mWidget\u001b[49m\u001b[43m.\u001b[49m\u001b[34;43m__init__\u001b[39;49m\u001b[43m(\u001b[49m\u001b[38;5;28;43mself\u001b[39;49m\u001b[43m,\u001b[49m\u001b[43m \u001b[49m\u001b[43mmaster\u001b[49m\u001b[43m,\u001b[49m\u001b[43m \u001b[49m\u001b[33;43m'\u001b[39;49m\u001b[33;43mlabel\u001b[39;49m\u001b[33;43m'\u001b[39;49m\u001b[43m,\u001b[49m\u001b[43m \u001b[49m\u001b[43mcnf\u001b[49m\u001b[43m,\u001b[49m\u001b[43m \u001b[49m\u001b[43mkw\u001b[49m\u001b[43m)\u001b[49m\n",
      "\u001b[36mFile \u001b[39m\u001b[32md:\\hacktiv8_alif\\hack8_bc\\conda_env\\work\\Lib\\tkinter\\__init__.py:2661\u001b[39m, in \u001b[36mBaseWidget.__init__\u001b[39m\u001b[34m(self, master, widgetName, cnf, kw, extra)\u001b[39m\n\u001b[32m   2659\u001b[39m \u001b[38;5;28;01mfor\u001b[39;00m k, v \u001b[38;5;129;01min\u001b[39;00m classes:\n\u001b[32m   2660\u001b[39m     \u001b[38;5;28;01mdel\u001b[39;00m cnf[k]\n\u001b[32m-> \u001b[39m\u001b[32m2661\u001b[39m \u001b[38;5;28;43mself\u001b[39;49m\u001b[43m.\u001b[49m\u001b[43mtk\u001b[49m\u001b[43m.\u001b[49m\u001b[43mcall\u001b[49m\u001b[43m(\u001b[49m\n\u001b[32m   2662\u001b[39m \u001b[43m    \u001b[49m\u001b[43m(\u001b[49m\u001b[43mwidgetName\u001b[49m\u001b[43m,\u001b[49m\u001b[43m \u001b[49m\u001b[38;5;28;43mself\u001b[39;49m\u001b[43m.\u001b[49m\u001b[43m_w\u001b[49m\u001b[43m)\u001b[49m\u001b[43m \u001b[49m\u001b[43m+\u001b[49m\u001b[43m \u001b[49m\u001b[43mextra\u001b[49m\u001b[43m \u001b[49m\u001b[43m+\u001b[49m\u001b[43m \u001b[49m\u001b[38;5;28;43mself\u001b[39;49m\u001b[43m.\u001b[49m\u001b[43m_options\u001b[49m\u001b[43m(\u001b[49m\u001b[43mcnf\u001b[49m\u001b[43m)\u001b[49m\u001b[43m)\u001b[49m\n\u001b[32m   2663\u001b[39m \u001b[38;5;28;01mfor\u001b[39;00m k, v \u001b[38;5;129;01min\u001b[39;00m classes:\n\u001b[32m   2664\u001b[39m     k.configure(\u001b[38;5;28mself\u001b[39m, v)\n",
      "\u001b[31mTclError\u001b[39m: image \"pyimage3\" doesn't exist"
     ]
    }
   ],
   "source": [
    "\n",
    "def relative_to_assets(filename):\n",
    "    path = r'C:\\Users\\alifn\\OneDrive\\Desktop\\urgent\\workspace_2025_\\WIP Project\\kantor\\stok_opname_app\\Stock_Opname_app\\assets'\n",
    "    full_path = os.path.join(path, filename)\n",
    "    if not os.path.exists(full_path):\n",
    "        print(f\"Warning: File not found at {full_path}\")\n",
    "    return full_path\n",
    "\n",
    "root = Tk()\n",
    "root.geometry(\"901x582\")\n",
    "root.configure(bg = \"#F6F6EF\")\n",
    "root.title(\"ASTEROS STOCK OPNAME\")\n",
    "root.resizable(False,False)\n",
    "\n",
    "images: dict = {}\n",
    "\n",
    "test_image = PhotoImage(file=relative_to_assets('entry_kolian.png'))\n",
    "test_label = Label(root, image=test_image)\n",
    "test_label.place(x=0, y\n",
    "=0)\n",
    "\n",
    "root.mainloop()\n",
    "\n",
    "images['test'] = test_image  # Keep a reference"
   ]
  }
 ],
 "metadata": {
  "kernelspec": {
   "display_name": "work",
   "language": "python",
   "name": "python3"
  },
  "language_info": {
   "codemirror_mode": {
    "name": "ipython",
    "version": 3
   },
   "file_extension": ".py",
   "mimetype": "text/x-python",
   "name": "python",
   "nbconvert_exporter": "python",
   "pygments_lexer": "ipython3",
   "version": "3.12.9"
  }
 },
 "nbformat": 4,
 "nbformat_minor": 2
}
